{
 "cells": [
  {
   "cell_type": "code",
   "execution_count": null,
   "id": "initial_id",
   "metadata": {
    "collapsed": true
   },
   "outputs": [],
   "source": "import pandas as pd"
  },
  {
   "metadata": {},
   "cell_type": "code",
   "outputs": [],
   "execution_count": null,
   "source": [
    "pkm_420 = pd.read_csv(r'../../data/csv/pokedex_420.csv')\n",
    "pkm_420.head()"
   ],
   "id": "3d363bb32c6900a6"
  },
  {
   "metadata": {},
   "cell_type": "code",
   "outputs": [],
   "execution_count": null,
   "source": [
    "pkm_secondary = pd.read_csv(r'../../data/csv/pokemon_secondary.csv')\n",
    "pkm_secondary.head()"
   ],
   "id": "2ac95e06cb88b257"
  },
  {
   "metadata": {},
   "cell_type": "code",
   "outputs": [],
   "execution_count": null,
   "source": [
    "pkm_global = pkm_420.drop(['Unnamed: 0','name', 'japanese_name','is_sub_legendary','type_number','abilities_number',\n",
    "                                     'egg_cycles', 'egg_type_1', 'egg_type_2',\n",
    "                                    'egg_type_number'],axis=1)\n",
    "\n",
    "df = pkm_global[pkm_global['generation'] <= 3]"
   ],
   "id": "943513ec5bb1d801"
  }
 ],
 "metadata": {
  "kernelspec": {
   "display_name": "Python 3",
   "language": "python",
   "name": "python3"
  },
  "language_info": {
   "codemirror_mode": {
    "name": "ipython",
    "version": 2
   },
   "file_extension": ".py",
   "mimetype": "text/x-python",
   "name": "python",
   "nbconvert_exporter": "python",
   "pygments_lexer": "ipython2",
   "version": "2.7.6"
  }
 },
 "nbformat": 4,
 "nbformat_minor": 5
}
